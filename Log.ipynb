{
 "cells": [
  {
   "cell_type": "code",
   "execution_count": null,
   "metadata": {},
   "outputs": [],
   "source": [
    "#Log book\n",
    "\n",
    "# ModelTrain 1 : basic build up of class\n",
    "# ModelTrain 2 : data set focus on avarge sized\n",
    "# ModelTrain 3 : brute force feature add on loop\n",
    "# ModelTrain 4 : more features‚"
   ]
  },
  {
   "cell_type": "code",
   "execution_count": null,
   "metadata": {},
   "outputs": [],
   "source": [
    "# Classes of feature\n",
    "\n",
    "# knowable\n",
    "yr_built\n",
    "lat\n",
    "long\n",
    "zipcode\n",
    "bathrooms\n",
    "sqft_living (sqft_basement/sqft_above)\n",
    "bedrooms\n",
    "\n",
    "#\n",
    "sqft_living15\n",
    "sqft_lot15\n",
    "\n",
    "yr_renovated\n",
    "view\n",
    "waterfront\n",
    "\n",
    "# external judgemne\n",
    "grade\n",
    "condition"
   ]
  },
  {
   "cell_type": "code",
   "execution_count": null,
   "metadata": {},
   "outputs": [],
   "source": [
    "# Simple goal\n",
    "# most space market predicton of price and in the low price rigion (self) ..."
   ]
  }
 ],
 "metadata": {
  "kernelspec": {
   "display_name": "Python [conda env:nf] *",
   "language": "python",
   "name": "conda-env-nf-py"
  },
  "language_info": {
   "codemirror_mode": {
    "name": "ipython",
    "version": 3
   },
   "file_extension": ".py",
   "mimetype": "text/x-python",
   "name": "python",
   "nbconvert_exporter": "python",
   "pygments_lexer": "ipython3",
   "version": "3.6.10"
  }
 },
 "nbformat": 4,
 "nbformat_minor": 4
}
