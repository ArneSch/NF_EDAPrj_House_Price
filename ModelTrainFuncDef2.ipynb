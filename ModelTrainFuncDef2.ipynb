{
 "cells": [
  {
   "cell_type": "markdown",
   "metadata": {},
   "source": [
    "## reduction of data set by the size of lot and living"
   ]
  },
  {
   "cell_type": "code",
   "execution_count": 5,
   "metadata": {},
   "outputs": [],
   "source": [
    "import pandas as pd\n",
    "import matplotlib.pyplot as plt\n",
    "import seaborn as sns\n",
    "sns.set()"
   ]
  },
  {
   "cell_type": "code",
   "execution_count": 23,
   "metadata": {},
   "outputs": [],
   "source": [
    "from sklearn.model_selection import train_test_split\n",
    "import numpy as np\n",
    "from sklearn import metrics\n",
    "import statsmodels.api as sm"
   ]
  },
  {
   "cell_type": "code",
   "execution_count": 43,
   "metadata": {},
   "outputs": [],
   "source": [
    "\n",
    "\n",
    "class OLSregModelWrapper():\n",
    "    def __init__(self, df, lst_x, label='none', const_en = False,yn='price', test_s = 0.2):\n",
    "        self.RegModel = None\n",
    "        self.y_hat = None\n",
    "        self.testMSE = None\n",
    "        self.testMSE_relativ = None\n",
    "        self.lst_x = lst_x\n",
    "        self.label = label\n",
    "        \n",
    "        # prep\n",
    "        y=df[yn]\n",
    "        X=df[lst_x]#.drop(yn,axis=1)\n",
    "        if const_en:\n",
    "            X = sm.add_constant(X)\n",
    "        \n",
    "        \n",
    "        self.x_train,self.x_test,self.y_train,self.y_test= \\\n",
    "            train_test_split(X,y,test_size=test_s,random_state=105)\n",
    "        \n",
    "        # Train and Test\n",
    "        self.Train()\n",
    "        self.Test()\n",
    "        \n",
    "        \n",
    "        \n",
    "    def Train(self):\n",
    "        self.RegModel = sm.OLS(self.y_train ,self.x_train).fit()\n",
    "        \n",
    "    \n",
    "    def Test(self):\n",
    "        self.y_hat = self.RegModel.predict(self.x_test)\n",
    "        \n",
    "        self.testMSE = metrics.mean_squared_error(y_true = self.y_test, y_pred = self.y_hat)\n",
    "        self.testRMSE = np.sqrt(self.testMSE)\n",
    "        self.testRMSE_relativ = self.testRMSE/(self.y_test.mean())\n",
    "        self.testMAE =  metrics.mean_absolute_error(self.y_test, self.y_hat)\n",
    "        self.testR2 = metrics.r2_score(self.y_test, self.y_hat)\n",
    "        \n",
    "    \n",
    "    def PlotTest(self,a=1.0):\n",
    "        plt.plot(self.y_hat-self.y_test,'o',label=self.label, alpha=a) \n",
    "        pass\n",
    "    \n",
    "    def PlotTestDist(self, b=50):\n",
    "        sns.distplot((self.y_hat-self.y_test),bins=b);\n",
    "    \n",
    "    def PlotRes(self,a=1.0):\n",
    "        plt.plot(self.RegModel.resid,'o',label=self.label, alpha=a)\n",
    "        pass\n",
    "        \n",
    "    \n",
    "    def predict(self, df):\n",
    "        if const_en:\n",
    "            X = sm.add_constant(df[self.lst_x])\n",
    "        else:\n",
    "            X = df[self.lst_x]\n",
    "        return self.RegModel.predict(X)\n",
    "        \n",
    "    \n",
    "    \n"
   ]
  },
  {
   "cell_type": "code",
   "execution_count": 32,
   "metadata": {},
   "outputs": [
    {
     "data": {
      "text/plain": [
       "Index(['id', 'date', 'price', 'bedrooms', 'bathrooms', 'sqft_living',\n",
       "       'sqft_lot', 'floors', 'waterfront', 'view', 'condition', 'grade',\n",
       "       'sqft_above', 'sqft_basement', 'yr_built', 'yr_renovated', 'zipcode',\n",
       "       'lat', 'long', 'sqft_living15', 'sqft_lot15'],\n",
       "      dtype='object')"
      ]
     },
     "execution_count": 32,
     "metadata": {},
     "output_type": "execute_result"
    }
   ],
   "source": [
    "df_raw = pd.read_csv('King_County_House_prices_dataset.csv')\n",
    "df_raw.columns\n",
    "#j ='price'\n",
    "#df_raw[j]"
   ]
  },
  {
   "cell_type": "code",
   "execution_count": 48,
   "metadata": {},
   "outputs": [],
   "source": [
    "# Size limitation of focus ( and trans. qm^2)\n",
    "df_raw['qm_living'] = df_raw.sqft_living*0.092903\n",
    "df_raw['qm_lot'] = df_raw.sqft_lot*0.092903\n",
    "\n",
    "\n",
    "df_avrsized_liv = df_raw[df_raw.qm_lot < df_raw.qm_lot.mean() + df_raw.qm_lot.std()]\n",
    "df_avrsized_livlot = df_avrsized_liv[df_avrsized_liv.qm_living < df_avrsized_liv.qm_living.mean() + df_avrsized_liv.qm_living.std()]\n",
    "df_avrsized_livlot = df_avrsized_livlot[df_avrsized_livlot.qm_lot< 1500]"
   ]
  },
  {
   "cell_type": "code",
   "execution_count": 49,
   "metadata": {},
   "outputs": [
    {
     "name": "stdout",
     "output_type": "stream",
     "text": [
      "0.42901727885896984\n",
      "0.3272827298655367\n",
      "229023.76881948952\n",
      "146783.53787935397\n",
      "0.564233426275309\n",
      "0.470133978122107\n",
      "0.8624662200116358\n",
      "0.9080889986055218\n"
     ]
    },
    {
     "data": {
      "image/png": "[encoded data removed]",
      "text/plain": [
       "<Figure size 432x288 with 1 Axes>"
      ]
     },
     "metadata": {},
     "output_type": "display_data"
    }
   ],
   "source": [
    "l = ['sqft_living', 'sqft_lot', \\\n",
    "     'yr_built','lat' ,'long']\n",
    "\n",
    "Model_base = OLSregModelWrapper(df_raw,l,'base',False)\n",
    "\n",
    "Model_O1 = OLSregModelWrapper(df_avrsized_livlot,l,'aversized',False)\n",
    "\n",
    "print(Model_base.testRMSE_relativ)\n",
    "print(Model_O1.testRMSE_relativ)\n",
    "print(Model_base.testRMSE)\n",
    "print(Model_O1.testRMSE)\n",
    "print(Model_base.testR2)\n",
    "print(Model_O1.testR2)\n",
    "print(Model_base.RegModel.rsquared)\n",
    "print(Model_O1.RegModel.rsquared)\n",
    "\n",
    "Model_base.PlotTestDist()\n",
    "Model_O1.PlotTestDist()\n",
    "\n",
    "## reduction in RMSE "
   ]
  },
  {
   "cell_type": "code",
   "execution_count": null,
   "metadata": {},
   "outputs": [],
   "source": []
  }
 ],
 "metadata": {
  "kernelspec": {
   "display_name": "Python [conda env:nf] *",
   "language": "python",
   "name": "conda-env-nf-py"
  },
  "language_info": {
   "codemirror_mode": {
    "name": "ipython",
    "version": 3
   },
   "file_extension": ".py",
   "mimetype": "text/x-python",
   "name": "python",
   "nbconvert_exporter": "python",
   "pygments_lexer": "ipython3",
   "version": "3.6.10"
  }
 },
 "nbformat": 4,
 "nbformat_minor": 4
}
