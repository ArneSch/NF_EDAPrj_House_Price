{
 "cells": [
  {
   "cell_type": "markdown",
   "metadata": {},
   "source": [
    "## reduction of data set by the size of lot and living"
   ]
  },
  {
   "cell_type": "code",
   "execution_count": 5,
   "metadata": {},
   "outputs": [],
   "source": [
    "import pandas as pd\n",
    "import matplotlib.pyplot as plt\n",
    "import seaborn as sns\n",
    "sns.set()"
   ]
  },
  {
   "cell_type": "code",
   "execution_count": 23,
   "metadata": {},
   "outputs": [],
   "source": [
    "from sklearn.model_selection import train_test_split\n",
    "import numpy as np\n",
    "from sklearn import metrics\n",
    "import statsmodels.api as sm"
   ]
  },
  {
   "cell_type": "code",
   "execution_count": 43,
   "metadata": {},
   "outputs": [],
   "source": [
    "\n",
    "\n",
    "class OLSregModelWrapper():\n",
    "    def __init__(self, df, lst_x, label='none', const_en = False,yn='price', test_s = 0.2):\n",
    "        self.RegModel = None\n",
    "        self.y_hat = None\n",
    "        self.testMSE = None\n",
    "        self.testMSE_relativ = None\n",
    "        self.lst_x = lst_x\n",
    "        self.label = label\n",
    "        \n",
    "        # prep\n",
    "        y=df[yn]\n",
    "        X=df[lst_x]#.drop(yn,axis=1)\n",
    "        if const_en:\n",
    "            X = sm.add_constant(X)\n",
    "        \n",
    "        \n",
    "        self.x_train,self.x_test,self.y_train,self.y_test= \\\n",
    "            train_test_split(X,y,test_size=test_s,random_state=105)\n",
    "        \n",
    "        # Train and Test\n",
    "        self.Train()\n",
    "        self.Test()\n",
    "        \n",
    "        \n",
    "        \n",
    "    def Train(self):\n",
    "        self.RegModel = sm.OLS(self.y_train ,self.x_train).fit()\n",
    "        \n",
    "    \n",
    "    def Test(self):\n",
    "        self.y_hat = self.RegModel.predict(self.x_test)\n",
    "        \n",
    "        self.testMSE = metrics.mean_squared_error(y_true = self.y_test, y_pred = self.y_hat)\n",
    "        self.testRMSE = np.sqrt(self.testMSE)\n",
    "        self.testRMSE_relativ = self.testRMSE/(self.y_test.mean())\n",
    "        self.testMAE =  metrics.mean_absolute_error(self.y_test, self.y_hat)\n",
    "        self.testR2 = metrics.r2_score(self.y_test, self.y_hat)\n",
    "        \n",
    "    \n",
    "    def PlotTest(self,a=1.0):\n",
    "        plt.plot(self.y_hat-self.y_test,'o',label=self.label, alpha=a) \n",
    "        pass\n",
    "    \n",
    "    def PlotTestDist(self, b=50):\n",
    "        sns.distplot((self.y_hat-self.y_test),bins=b);\n",
    "    \n",
    "    def PlotRes(self,a=1.0):\n",
    "        plt.plot(self.RegModel.resid,'o',label=self.label, alpha=a)\n",
    "        pass\n",
    "        \n",
    "    \n",
    "    def predict(self, df):\n",
    "        if const_en:\n",
    "            X = sm.add_constant(df[self.lst_x])\n",
    "        else:\n",
    "            X = df[self.lst_x]\n",
    "        return self.RegModel.predict(X)\n",
    "        \n",
    "    \n",
    "    \n"
   ]
  },
  {
   "cell_type": "code",
   "execution_count": 32,
   "metadata": {},
   "outputs": [
    {
     "data": {
      "text/plain": [
       "Index(['id', 'date', 'price', 'bedrooms', 'bathrooms', 'sqft_living',\n",
       "       'sqft_lot', 'floors', 'waterfront', 'view', 'condition', 'grade',\n",
       "       'sqft_above', 'sqft_basement', 'yr_built', 'yr_renovated', 'zipcode',\n",
       "       'lat', 'long', 'sqft_living15', 'sqft_lot15'],\n",
       "      dtype='object')"
      ]
     },
     "execution_count": 32,
     "metadata": {},
     "output_type": "execute_result"
    }
   ],
   "source": [
    "df_raw = pd.read_csv('King_County_House_prices_dataset.csv')\n",
    "df_raw.columns\n",
    "#j ='price'\n",
    "#df_raw[j]"
   ]
  },
  {
   "cell_type": "markdown",
   "metadata": {},
   "source": [
    "## feature adding"
   ]
  },
  {
   "cell_type": "markdown",
   "metadata": {},
   "source": [
    "### Cluster cut"
   ]
  },
  {
   "cell_type": "code",
   "execution_count": 48,
   "metadata": {},
   "outputs": [],
   "source": [
    "# Size limitation of focus ( and trans. qm^2)\n",
    "df_raw['qm_living'] = df_raw.sqft_living*0.092903\n",
    "df_raw['qm_lot'] = df_raw.sqft_lot*0.092903\n",
    "\n",
    "df_avrsized_liv = df_raw[df_raw.qm_lot < df_raw.qm_lot.mean() + df_raw.qm_lot.std()]\n",
    "df_avrsized_livlot = df_avrsized_liv[df_avrsized_liv.qm_living < df_avrsized_liv.qm_living.mean() + df_avrsized_liv.qm_living.std()]\n",
    "df_avrsized_livlot = df_avrsized_livlot[df_avrsized_livlot.qm_lot< 2000]"
   ]
  },
  {
   "cell_type": "code",
   "execution_count": null,
   "metadata": {},
   "outputs": [],
   "source": [
    "### Bruto Force Train Set"
   ]
  },
  {
   "cell_type": "code",
   "execution_count": 56,
   "metadata": {},
   "outputs": [
    {
     "name": "stderr",
     "output_type": "stream",
     "text": [
      "/Users/arnescheunemann/opt/anaconda3/envs/nf/lib/python3.6/site-packages/numpy/core/fromnumeric.py:2389: FutureWarning: Method .ptp is deprecated and will be removed in a future version. Use numpy.ptp instead.\n",
      "  return ptp(axis=axis, out=out, **kwargs)\n",
      "/Users/arnescheunemann/opt/anaconda3/envs/nf/lib/python3.6/site-packages/numpy/core/fromnumeric.py:2389: FutureWarning: Method .ptp is deprecated and will be removed in a future version. Use numpy.ptp instead.\n",
      "  return ptp(axis=axis, out=out, **kwargs)\n",
      "/Users/arnescheunemann/opt/anaconda3/envs/nf/lib/python3.6/site-packages/numpy/core/fromnumeric.py:2389: FutureWarning: Method .ptp is deprecated and will be removed in a future version. Use numpy.ptp instead.\n",
      "  return ptp(axis=axis, out=out, **kwargs)\n",
      "/Users/arnescheunemann/opt/anaconda3/envs/nf/lib/python3.6/site-packages/numpy/core/fromnumeric.py:2389: FutureWarning: Method .ptp is deprecated and will be removed in a future version. Use numpy.ptp instead.\n",
      "  return ptp(axis=axis, out=out, **kwargs)\n",
      "/Users/arnescheunemann/opt/anaconda3/envs/nf/lib/python3.6/site-packages/numpy/core/fromnumeric.py:2389: FutureWarning: Method .ptp is deprecated and will be removed in a future version. Use numpy.ptp instead.\n",
      "  return ptp(axis=axis, out=out, **kwargs)\n",
      "/Users/arnescheunemann/opt/anaconda3/envs/nf/lib/python3.6/site-packages/numpy/core/fromnumeric.py:2389: FutureWarning: Method .ptp is deprecated and will be removed in a future version. Use numpy.ptp instead.\n",
      "  return ptp(axis=axis, out=out, **kwargs)\n",
      "/Users/arnescheunemann/opt/anaconda3/envs/nf/lib/python3.6/site-packages/numpy/core/fromnumeric.py:2389: FutureWarning: Method .ptp is deprecated and will be removed in a future version. Use numpy.ptp instead.\n",
      "  return ptp(axis=axis, out=out, **kwargs)\n",
      "/Users/arnescheunemann/opt/anaconda3/envs/nf/lib/python3.6/site-packages/numpy/core/fromnumeric.py:2389: FutureWarning: Method .ptp is deprecated and will be removed in a future version. Use numpy.ptp instead.\n",
      "  return ptp(axis=axis, out=out, **kwargs)\n",
      "/Users/arnescheunemann/opt/anaconda3/envs/nf/lib/python3.6/site-packages/numpy/core/fromnumeric.py:2389: FutureWarning: Method .ptp is deprecated and will be removed in a future version. Use numpy.ptp instead.\n",
      "  return ptp(axis=axis, out=out, **kwargs)\n",
      "/Users/arnescheunemann/opt/anaconda3/envs/nf/lib/python3.6/site-packages/numpy/core/fromnumeric.py:2389: FutureWarning: Method .ptp is deprecated and will be removed in a future version. Use numpy.ptp instead.\n",
      "  return ptp(axis=axis, out=out, **kwargs)\n"
     ]
    },
    {
     "data": {
      "text/html": [
       "<div>\n",
       "<style scoped>\n",
       "    .dataframe tbody tr th:only-of-type {\n",
       "        vertical-align: middle;\n",
       "    }\n",
       "\n",
       "    .dataframe tbody tr th {\n",
       "        vertical-align: top;\n",
       "    }\n",
       "\n",
       "    .dataframe thead th {\n",
       "        text-align: right;\n",
       "    }\n",
       "</style>\n",
       "<table border=\"1\" class=\"dataframe\">\n",
       "  <thead>\n",
       "    <tr style=\"text-align: right;\">\n",
       "      <th></th>\n",
       "      <th>0#sqft_living</th>\n",
       "      <th>1#sqft_living</th>\n",
       "      <th>0#sqft_living-sqft_lot</th>\n",
       "      <th>1#sqft_living-sqft_lot</th>\n",
       "      <th>0#sqft_living-sqft_lot-yr_built</th>\n",
       "      <th>1#sqft_living-sqft_lot-yr_built</th>\n",
       "      <th>0#sqft_living-sqft_lot-yr_built-lat</th>\n",
       "      <th>1#sqft_living-sqft_lot-yr_built-lat</th>\n",
       "      <th>0#sqft_living-sqft_lot-yr_built-lat-long</th>\n",
       "      <th>1#sqft_living-sqft_lot-yr_built-lat-long</th>\n",
       "    </tr>\n",
       "  </thead>\n",
       "  <tbody>\n",
       "    <tr>\n",
       "      <th>testRMSE</th>\n",
       "      <td>222474.643888</td>\n",
       "      <td>145527.705193</td>\n",
       "      <td>222474.643888</td>\n",
       "      <td>145527.705193</td>\n",
       "      <td>222474.643888</td>\n",
       "      <td>145527.705193</td>\n",
       "      <td>222474.643888</td>\n",
       "      <td>145527.705193</td>\n",
       "      <td>222474.643888</td>\n",
       "      <td>145527.705193</td>\n",
       "    </tr>\n",
       "    <tr>\n",
       "      <th>testRMSE_relativ</th>\n",
       "      <td>0.416749</td>\n",
       "      <td>0.324483</td>\n",
       "      <td>0.416749</td>\n",
       "      <td>0.324483</td>\n",
       "      <td>0.416749</td>\n",
       "      <td>0.324483</td>\n",
       "      <td>0.416749</td>\n",
       "      <td>0.324483</td>\n",
       "      <td>0.416749</td>\n",
       "      <td>0.324483</td>\n",
       "    </tr>\n",
       "    <tr>\n",
       "      <th>testR2</th>\n",
       "      <td>0.588799</td>\n",
       "      <td>0.479162</td>\n",
       "      <td>0.588799</td>\n",
       "      <td>0.479162</td>\n",
       "      <td>0.588799</td>\n",
       "      <td>0.479162</td>\n",
       "      <td>0.588799</td>\n",
       "      <td>0.479162</td>\n",
       "      <td>0.588799</td>\n",
       "      <td>0.479162</td>\n",
       "    </tr>\n",
       "    <tr>\n",
       "      <th>trainR2</th>\n",
       "      <td>0.588402</td>\n",
       "      <td>0.493784</td>\n",
       "      <td>0.588402</td>\n",
       "      <td>0.493784</td>\n",
       "      <td>0.588402</td>\n",
       "      <td>0.493784</td>\n",
       "      <td>0.588402</td>\n",
       "      <td>0.493784</td>\n",
       "      <td>0.588402</td>\n",
       "      <td>0.493784</td>\n",
       "    </tr>\n",
       "  </tbody>\n",
       "</table>\n",
       "</div>"
      ],
      "text/plain": [
       "                  0#sqft_living  1#sqft_living  0#sqft_living-sqft_lot  \\\n",
       "testRMSE          222474.643888  145527.705193           222474.643888   \n",
       "testRMSE_relativ       0.416749       0.324483                0.416749   \n",
       "testR2                 0.588799       0.479162                0.588799   \n",
       "trainR2                0.588402       0.493784                0.588402   \n",
       "\n",
       "                  1#sqft_living-sqft_lot  0#sqft_living-sqft_lot-yr_built  \\\n",
       "testRMSE                   145527.705193                    222474.643888   \n",
       "testRMSE_relativ                0.324483                         0.416749   \n",
       "testR2                          0.479162                         0.588799   \n",
       "trainR2                         0.493784                         0.588402   \n",
       "\n",
       "                  1#sqft_living-sqft_lot-yr_built  \\\n",
       "testRMSE                            145527.705193   \n",
       "testRMSE_relativ                         0.324483   \n",
       "testR2                                   0.479162   \n",
       "trainR2                                  0.493784   \n",
       "\n",
       "                  0#sqft_living-sqft_lot-yr_built-lat  \\\n",
       "testRMSE                                222474.643888   \n",
       "testRMSE_relativ                             0.416749   \n",
       "testR2                                       0.588799   \n",
       "trainR2                                      0.588402   \n",
       "\n",
       "                  1#sqft_living-sqft_lot-yr_built-lat  \\\n",
       "testRMSE                                145527.705193   \n",
       "testRMSE_relativ                             0.324483   \n",
       "testR2                                       0.479162   \n",
       "trainR2                                      0.493784   \n",
       "\n",
       "                  0#sqft_living-sqft_lot-yr_built-lat-long  \\\n",
       "testRMSE                                     222474.643888   \n",
       "testRMSE_relativ                                  0.416749   \n",
       "testR2                                            0.588799   \n",
       "trainR2                                           0.588402   \n",
       "\n",
       "                  1#sqft_living-sqft_lot-yr_built-lat-long  \n",
       "testRMSE                                     145527.705193  \n",
       "testRMSE_relativ                                  0.324483  \n",
       "testR2                                            0.479162  \n",
       "trainR2                                           0.493784  "
      ]
     },
     "execution_count": 56,
     "metadata": {},
     "output_type": "execute_result"
    }
   ],
   "source": [
    "flist = ['sqft_living', 'sqft_lot', 'yr_built','lat' ,'long']\n",
    "mlist = []\n",
    "dflist = [df_raw, df_avrsized_livlot]\n",
    "df_res = pd.DataFrame()\n",
    "df_resindex = pd.Index(['testRMSE','testRMSE_relativ','testR2', 'trainR2'])\n",
    "activeF = []\n",
    "for f in flist:\n",
    "    activeF.append(f)\n",
    "    for i in range(0,len(dflist)):\n",
    "        M = OLSregModelWrapper(dflist[i],l,'M%d' %i ,True)\n",
    "        mlist.append(M)\n",
    "        \n",
    "        m_name = str(i) + '#' + '-'.join(activeF)\n",
    "        df_res[m_name] = pd.Series([M.testRMSE,M.testRMSE_relativ \\\n",
    "                               , M.testR2, M.RegModel.rsquared ], index=df_resindex)\n",
    "\n",
    "\n",
    "df_res\n",
    "\n",
    "\n",
    "\n"
   ]
  },
  {
   "cell_type": "code",
   "execution_count": 54,
   "metadata": {},
   "outputs": [
    {
     "data": {
      "text/plain": [
       "'sqft_living-sqft_lot-yr_built-lat-long'"
      ]
     },
     "execution_count": 54,
     "metadata": {},
     "output_type": "execute_result"
    }
   ],
   "source": [
    "flist = ['sqft_living', 'sqft_lot', 'yr_built','lat' ,'long']\n",
    "'-'.join(flist)"
   ]
  },
  {
   "cell_type": "code",
   "execution_count": null,
   "metadata": {},
   "outputs": [],
   "source": []
  }
 ],
 "metadata": {
  "kernelspec": {
   "display_name": "Python [conda env:nf] *",
   "language": "python",
   "name": "conda-env-nf-py"
  },
  "language_info": {
   "codemirror_mode": {
    "name": "ipython",
    "version": 3
   },
   "file_extension": ".py",
   "mimetype": "text/x-python",
   "name": "python",
   "nbconvert_exporter": "python",
   "pygments_lexer": "ipython3",
   "version": "3.6.10"
  }
 },
 "nbformat": 4,
 "nbformat_minor": 4
}
